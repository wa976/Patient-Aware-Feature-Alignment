{
 "cells": [
  {
   "cell_type": "code",
   "execution_count": 32,
   "metadata": {},
   "outputs": [],
   "source": [
    "import pandas as pd\n",
    "import numpy as np\n",
    "import matplotlib.pyplot as plt\n",
    "import seaborn as sns"
   ]
  },
  {
   "cell_type": "code",
   "execution_count": 33,
   "metadata": {},
   "outputs": [],
   "source": [
    "csv_modelA = 'test_patient_evaluation_ce.csv'\n",
    "csv_modelB = 'test_patient_evaluation_pafa.csv'"
   ]
  },
  {
   "cell_type": "code",
   "execution_count": 34,
   "metadata": {},
   "outputs": [],
   "source": [
    "dfA = pd.read_csv(csv_modelA)\n",
    "dfB = pd.read_csv(csv_modelB)"
   ]
  },
  {
   "cell_type": "code",
   "execution_count": 35,
   "metadata": {},
   "outputs": [
    {
     "name": "stdout",
     "output_type": "stream",
     "text": [
      "=== Model A Data Preview ===\n",
      "   patient id  number of samples  accuracy    spesific  sensitive      score\n",
      "0         101               23.0  1.000000  100.000000   0.000000  50.000000\n",
      "1         102               13.0  0.923077   92.307692   0.000000  46.153846\n",
      "2         104               55.0  0.545455   54.545455  54.545455  54.545455\n",
      "3         109               61.0  0.606557   65.217391  46.666667  55.942029\n",
      "4         113               50.0  0.680000   68.000000   0.000000  34.000000 \n",
      "\n",
      "=== Model B Data Preview ===\n",
      "   patient id  number of samples  accuracy    spesific  sensitive      score\n",
      "0         101               23.0  1.000000  100.000000   0.000000  50.000000\n",
      "1         102               13.0  1.000000  100.000000   0.000000  50.000000\n",
      "2         104               55.0  0.745455   88.636364  18.181818  53.409091\n",
      "3         109               61.0  0.950820   95.652174  93.333333  94.492754\n",
      "4         113               50.0  1.000000  100.000000   0.000000  50.000000\n"
     ]
    }
   ],
   "source": [
    "print(\"=== Model A Data Preview ===\")\n",
    "print(dfA.head(), \"\\n\")\n",
    "print(\"=== Model B Data Preview ===\")\n",
    "print(dfB.head())"
   ]
  },
  {
   "cell_type": "code",
   "execution_count": 36,
   "metadata": {},
   "outputs": [
    {
     "name": "stdout",
     "output_type": "stream",
     "text": [
      "--- Model A ---\n",
      "Mean Accuracy: 0.7179\n",
      "Std Accuracy : 0.2092\n",
      "Max Accuracy : 1.0000\n",
      "Min Accuracy : 0.2857\n",
      "\n",
      "--- Model B ---\n",
      "Mean Accuracy: 0.7234\n",
      "Std Accuracy : 0.2160\n",
      "Max Accuracy : 1.0000\n",
      "Min Accuracy : 0.2857\n",
      "\n"
     ]
    }
   ],
   "source": [
    "def print_accuracy_stats(df, model_name):\n",
    "    mean_acc = df['accuracy'].mean()\n",
    "    std_acc  = df['accuracy'].std()\n",
    "    max_acc  = df['accuracy'].max()\n",
    "    min_acc  = df['accuracy'].min()\n",
    "    print(f\"--- {model_name} ---\")\n",
    "    print(f\"Mean Accuracy: {mean_acc:.4f}\")\n",
    "    print(f\"Std Accuracy : {std_acc:.4f}\")\n",
    "    print(f\"Max Accuracy : {max_acc:.4f}\")\n",
    "    print(f\"Min Accuracy : {min_acc:.4f}\\n\")\n",
    "    \n",
    "print_accuracy_stats(dfA, \"Model A\")\n",
    "print_accuracy_stats(dfB, \"Model B\")"
   ]
  },
  {
   "cell_type": "code",
   "execution_count": 37,
   "metadata": {},
   "outputs": [
    {
     "name": "stdout",
     "output_type": "stream",
     "text": [
      "--- Accuracy Range Analysis for Model A ---\n",
      "Range 0.0~0.1: 0 patients\n",
      "    Patient IDs (first 10): []\n",
      "Range 0.1~0.2: 0 patients\n",
      "    Patient IDs (first 10): []\n",
      "Range 0.2~0.3: 1 patients\n",
      "    Patient IDs (first 10): [182]\n",
      "Range 0.3~0.4: 1 patients\n",
      "    Patient IDs (first 10): [118]\n",
      "Range 0.4~0.5: 6 patients\n",
      "    Patient IDs (first 10): [145, 147, 149, 150, 205, 218]\n",
      "Range 0.5~0.6: 7 patients\n",
      "    Patient IDs (first 10): [104, 146, 156, 160, 195, 198, 223]\n",
      "Range 0.6~0.7: 10 patients\n",
      "    Patient IDs (first 10): [109, 113, 139, 151, 169, 173, 174, 175, 177, 178]\n",
      "Range 0.7~0.8: 7 patients\n",
      "    Patient IDs (first 10): [124, 133, 176, 185, 207, 216, 224]\n",
      "Range 0.8~0.9: 4 patients\n",
      "    Patient IDs (first 10): [165, 170, 211, 214]\n",
      "Range 0.9~1.0: 2 patients\n",
      "    Patient IDs (first 10): [102, 143]\n",
      "\n",
      "\n",
      "--- Accuracy Range Analysis for Model B ---\n",
      "Range 0.0~0.1: 0 patients\n",
      "    Patient IDs (first 10): []\n",
      "Range 0.1~0.2: 0 patients\n",
      "    Patient IDs (first 10): []\n",
      "Range 0.2~0.3: 1 patients\n",
      "    Patient IDs (first 10): [182]\n",
      "Range 0.3~0.4: 2 patients\n",
      "    Patient IDs (first 10): [118, 145]\n",
      "Range 0.4~0.5: 6 patients\n",
      "    Patient IDs (first 10): [146, 147, 150, 175, 195, 218]\n",
      "Range 0.5~0.6: 8 patients\n",
      "    Patient IDs (first 10): [149, 156, 160, 169, 177, 198, 205, 223]\n",
      "Range 0.6~0.7: 3 patients\n",
      "    Patient IDs (first 10): [151, 173, 176]\n",
      "Range 0.7~0.8: 11 patients\n",
      "    Patient IDs (first 10): [104, 119, 124, 139, 170, 174, 178, 207, 214, 216]\n",
      "Range 0.8~0.9: 3 patients\n",
      "    Patient IDs (first 10): [133, 165, 211]\n",
      "Range 0.9~1.0: 5 patients\n",
      "    Patient IDs (first 10): [109, 143, 144, 185, 187]\n",
      "\n",
      "\n"
     ]
    },
    {
     "name": "stderr",
     "output_type": "stream",
     "text": [
      "/tmp/ipykernel_820/1272095266.py:11: FutureWarning: The default of observed=False is deprecated and will be changed to True in a future version of pandas. Pass observed=False to retain current behavior or observed=True to adopt the future default and silence this warning.\n",
      "  groups = df.groupby('accuracy_range')\n",
      "/tmp/ipykernel_820/1272095266.py:11: FutureWarning: The default of observed=False is deprecated and will be changed to True in a future version of pandas. Pass observed=False to retain current behavior or observed=True to adopt the future default and silence this warning.\n",
      "  groups = df.groupby('accuracy_range')\n"
     ]
    }
   ],
   "source": [
    "def accuracy_range_analysis(df, model_name):\n",
    "    \"\"\"\n",
    "    환자별 accuracy를 0~0.1, 0.1~0.2, ... 0.9~1.0 구간으로 나누어 각 구간의 환자 수 및\n",
    "    상위 10개의 patient id를 출력합니다.\n",
    "    \"\"\"\n",
    "    df = df.copy()\n",
    "    bins = np.arange(0, 1.1, 0.1)  # 0.0, 0.1, 0.2, ..., 1.0\n",
    "    labels = [f\"{bins[i]:.1f}~{bins[i+1]:.1f}\" for i in range(len(bins)-1)]\n",
    "    \n",
    "    df['accuracy_range'] = pd.cut(df['accuracy'], bins=bins, labels=labels, include_lowest=True, right=False)\n",
    "    groups = df.groupby('accuracy_range')\n",
    "    \n",
    "    print(f\"--- Accuracy Range Analysis for {model_name} ---\")\n",
    "    for rng, group in groups:\n",
    "        print(f\"Range {rng}: {len(group)} patients\")\n",
    "        patient_ids = group['patient id'].tolist()\n",
    "        print(f\"    Patient IDs (first 10): {patient_ids[:10]}\")\n",
    "    print(\"\\n\")\n",
    "\n",
    "    \n",
    "accuracy_range_analysis(dfA, \"Model A\")\n",
    "accuracy_range_analysis(dfB, \"Model B\")"
   ]
  },
  {
   "cell_type": "code",
   "execution_count": 38,
   "metadata": {},
   "outputs": [],
   "source": [
    "df_compare = pd.merge(dfA[['patient id', 'accuracy']], dfB[['patient id', 'accuracy']], \n",
    "                      on='patient id', suffixes=('_A', '_B'))"
   ]
  },
  {
   "cell_type": "code",
   "execution_count": 39,
   "metadata": {},
   "outputs": [
    {
     "name": "stdout",
     "output_type": "stream",
     "text": [
      "=== Model Comparison (B vs A) ===\n",
      "Number of patients with improved accuracy: 14\n",
      "Patient IDs with improved accuracy         : ['102.0 (13.0)', '104.0 (55.0)', '109.0 (61.0)', '113.0 (50.0)', '133.0 (156.0)', '139.0 (46.0)', '147.0 (103.0)', '149.0 (51.0)', '151.0 (168.0)', '174.0 (110.0)', '178.0 (208.0)', '185.0 (55.0)', '198.0 (98.0)', '205.0 (102.0)']\n",
      "Number of patients with decreased accuracy : 20\n",
      "Patient IDs with decreased accuracy          : ['118.0 (40.0)', '119.0 (9.0)', '144.0 (20.0)', '145.0 (37.0)', '146.0 (80.0)', '156.0 (61.0)', '160.0 (101.0)', '165.0 (23.0)', '169.0 (14.0)', '170.0 (150.0)', '175.0 (23.0)', '176.0 (133.0)', '177.0 (79.0)', '187.0 (17.0)', '195.0 (75.0)', '207.0 (139.0)', '214.0 (7.0)', '218.0 (59.0)', '223.0 (61.0)', '224.0 (14.0)']\n",
      "Number of patients with no change          : 15\n",
      "Patient IDs with no change                   : ['101.0 (23.0)', '123.0 (8.0)', '124.0 (48.0)', '126.0 (11.0)', '136.0 (9.0)', '143.0 (18.0)', '150.0 (17.0)', '171.0 (9.0)', '173.0 (13.0)', '182.0 (7.0)', '194.0 (18.0)', '202.0 (10.0)', '211.0 (111.0)', '216.0 (22.0)', '225.0 (14.0)']\n",
      "Average accuracy difference                  : 0.0055\n",
      "\n"
     ]
    }
   ],
   "source": [
    "# 먼저 df_compare에 \"number of samples\" 컬럼을 포함하여 merge 합니다.\n",
    "df_compare = pd.merge(dfA[['patient id', 'number of samples', 'accuracy']], \n",
    "                      dfB[['patient id', 'accuracy']], \n",
    "                      on='patient id', \n",
    "                      suffixes=('_A', '_B'))\n",
    "\n",
    "# 환자별 정확도 차이 계산 (Model B - Model A)\n",
    "df_compare['accuracy_diff'] = df_compare['accuracy_B'] - df_compare['accuracy_A']\n",
    "\n",
    "# 개선/감소/변화 없음에 해당하는 마스크 생성\n",
    "improved_mask = df_compare['accuracy_diff'] > 0\n",
    "decreased_mask  = df_compare['accuracy_diff'] < 0\n",
    "nochange_mask   = df_compare['accuracy_diff'] == 0\n",
    "\n",
    "# 각 카테고리의 환자 수 산출\n",
    "num_improved = improved_mask.sum()\n",
    "num_decreased = decreased_mask.sum()\n",
    "num_nochange  = nochange_mask.sum()\n",
    "avg_diff      = df_compare['accuracy_diff'].mean()\n",
    "\n",
    "# 각 카테고리별로 \"환자 id (샘플 갯수)\" 형태의 문자열을 추출\n",
    "improved_ids = df_compare.loc[improved_mask].apply(lambda row: f\"{row['patient id']} ({row['number of samples']})\", axis=1).tolist()\n",
    "decreased_ids  = df_compare.loc[decreased_mask].apply(lambda row: f\"{row['patient id']} ({row['number of samples']})\", axis=1).tolist()\n",
    "nochange_ids   = df_compare.loc[nochange_mask].apply(lambda row: f\"{row['patient id']} ({row['number of samples']})\", axis=1).tolist()\n",
    "\n",
    "print(\"=== Model Comparison (B vs A) ===\")\n",
    "print(f\"Number of patients with improved accuracy: {num_improved}\")\n",
    "print(f\"Patient IDs with improved accuracy         : {improved_ids}\")\n",
    "print(f\"Number of patients with decreased accuracy : {num_decreased}\")\n",
    "print(f\"Patient IDs with decreased accuracy          : {decreased_ids}\")\n",
    "print(f\"Number of patients with no change          : {num_nochange}\")\n",
    "print(f\"Patient IDs with no change                   : {nochange_ids}\")\n",
    "print(f\"Average accuracy difference                  : {avg_diff:.4f}\\n\")"
   ]
  },
  {
   "cell_type": "code",
   "execution_count": 40,
   "metadata": {},
   "outputs": [
    {
     "data": {
      "image/png": "[encoded data removed]",
      "text/plain": [
       "<Figure size 1000x800 with 1 Axes>"
      ]
     },
     "metadata": {},
     "output_type": "display_data"
    }
   ],
   "source": [
    "import numpy as np\n",
    "\n",
    "# selected_ids = [109,218,185,195,139,104,118,124,113] ## sub cluster\n",
    "selected_ids = [109,218,185,195,139,104] ## sub cluster\n",
    "\n",
    "# selected_ids = [160,198,146,174,177,145,147,133,176,205] ## High sample\n",
    "# selected_ids = [160,198,146,174,177,145] ## High sample\n",
    "\n",
    "# 각 모델별로 선택한 환자 id에 해당하는 데이터 필터링\n",
    "dfA_selected = dfA[dfA['patient id'].isin(selected_ids)][['patient id', 'accuracy']]\n",
    "dfB_selected = dfB[dfB['patient id'].isin(selected_ids)][['patient id', 'accuracy']]\n",
    "\n",
    "\n",
    "# 환자 id를 기준으로 두 모델의 데이터를 merge하여 side-by-side 비교가 가능하도록 함\n",
    "df_selected = pd.merge(dfA_selected, dfB_selected, on='patient id', suffixes=('_A', '_B'))\n",
    "\n",
    "\n",
    "# Set font size parameters for various elements\n",
    "axis_label_font_size = 24   # for x- and y-axis labels\n",
    "title_font_size       = 28   # for the plot title\n",
    "tick_label_font_size  = 22   # for the tick labels\n",
    "legend_font_size      = 22   # for the legend text\n",
    "\n",
    "\n",
    "plt.figure(figsize=(10, 8))\n",
    "\n",
    "# 수평 바의 위치 설정. 각 환자마다 두 모델의 정확도를 바 그룹으로 표시합니다.\n",
    "y_positions = np.arange(len(df_selected))\n",
    "bar_height = 0.35  # 한 그룹 내 바 높이\n",
    "\n",
    "# 각 모델의 정확도를 수평 막대로 그림\n",
    "plt.barh(y_positions - bar_height/2, df_selected['accuracy_A'], height=bar_height, \n",
    "         label='BEATs + CE', color='blue')\n",
    "plt.barh(y_positions + bar_height/2, df_selected['accuracy_B'], height=bar_height, \n",
    "         label='BEATs + PAFA', color='orange')\n",
    "\n",
    "# Axis labels and title with font size adjustments\n",
    "plt.xlabel('Accuracy', fontsize=axis_label_font_size)\n",
    "plt.ylabel('Patient ID', fontsize=axis_label_font_size)\n",
    "# plt.title('Accuracy Comparison for Selected Patients', fontsize=title_font_size)\n",
    "\n",
    "# Setting tick label sizes for both axes\n",
    "plt.xticks(fontsize=tick_label_font_size)\n",
    "plt.yticks(y_positions, df_selected['patient id'], fontsize=tick_label_font_size)\n",
    "\n",
    "plt.xlim(0, 1)  # 정확도가 0~1 사이의 값일 경우\n",
    "plt.legend(fontsize=legend_font_size)\n",
    "plt.tight_layout()\n",
    "plt.show()"
   ]
  },
  {
   "cell_type": "code",
   "execution_count": 41,
   "metadata": {},
   "outputs": [],
   "source": [
    "# plt.figure(figsize=(10,5))\n",
    "# sns.histplot(df_compare['accuracy_diff'], bins=20, kde=True, color='green')\n",
    "# plt.title(\"Distribution of Accuracy Difference (Model B - Model A)\")\n",
    "# plt.xlabel(\"Accuracy Difference\")\n",
    "# plt.ylabel(\"Number of Patients\")\n",
    "# plt.show()"
   ]
  },
  {
   "cell_type": "code",
   "execution_count": 42,
   "metadata": {},
   "outputs": [],
   "source": [
    "# plt.figure(figsize=(10,5))\n",
    "# sns.scatterplot(data=df_compare, x='accuracy_A', y='accuracy_B')\n",
    "# plt.plot([df_compare['accuracy_A'].min(), df_compare['accuracy_A'].max()],\n",
    "#          [df_compare['accuracy_A'].min(), df_compare['accuracy_A'].max()],\n",
    "#          color='red', linestyle='--', label='y=x')\n",
    "# plt.xlabel(\"Accuracy (Model A)\")\n",
    "# plt.ylabel(\"Accuracy (Model B)\")\n",
    "# plt.title(\"Patient-level Accuracy: Model A vs Model B\")\n",
    "# plt.legend()\n",
    "# plt.show()"
   ]
  },
  {
   "cell_type": "code",
   "execution_count": 43,
   "metadata": {},
   "outputs": [],
   "source": [
    "# plt.figure(figsize=(12,6))\n",
    "# sns.histplot(dfA['accuracy'], bins=10, kde=True, color=\"blue\", label=\"CE\", alpha=0.5)\n",
    "# sns.histplot(dfB['accuracy'], bins=10, kde=True, color=\"orange\", label=\"PAFA\", alpha=0.5)\n",
    "# plt.title(\"Patient-level Accuracy Distribution\")\n",
    "# plt.xlabel(\"Accuracy\")\n",
    "# plt.ylabel(\"Count\")\n",
    "# plt.legend()\n",
    "# plt.show()"
   ]
  },
  {
   "cell_type": "code",
   "execution_count": 44,
   "metadata": {},
   "outputs": [],
   "source": [
    "# # 모델별 식별을 위한 컬럼 추가\n",
    "# dfA_plot = dfA[['patient id', 'accuracy']].copy()\n",
    "# dfA_plot['Model'] = 'CE'\n",
    "\n",
    "# dfB_plot = dfB[['patient id', 'accuracy']].copy()\n",
    "# dfB_plot['Model'] = 'PAFA'\n",
    "\n",
    "# # 두 데이터프레임 합치기\n",
    "# df_all = pd.concat([dfA_plot, dfB_plot], ignore_index=True)\n",
    "\n",
    "# # 폰트 크기 설정\n",
    "# plt.rcParams.update({'font.size': 16})\n",
    "\n",
    "# plt.figure(figsize=(10, 6))\n",
    "# sns.boxplot(data=df_all, x='Model', y='accuracy', palette='Set2')\n",
    "# sns.stripplot(data=df_all, x='Model', y='accuracy', color='gray', jitter=True, alpha=0.7)\n",
    "# plt.title('Patient-level Accuracy Distribution')\n",
    "# plt.xlabel('Method')\n",
    "# plt.ylabel('Accuracy')\n",
    "# plt.ylim(0, 1.05)\n",
    "\n",
    "# plt.xticks(fontsize=18)\n",
    "# plt.yticks(fontsize=14)\n",
    "\n",
    "# plt.show()"
   ]
  }
 ],
 "metadata": {
  "kernelspec": {
   "display_name": "base",
   "language": "python",
   "name": "python3"
  },
  "language_info": {
   "codemirror_mode": {
    "name": "ipython",
    "version": 3
   },
   "file_extension": ".py",
   "mimetype": "text/x-python",
   "name": "python",
   "nbconvert_exporter": "python",
   "pygments_lexer": "ipython3",
   "version": "3.10.13"
  }
 },
 "nbformat": 4,
 "nbformat_minor": 2
}
